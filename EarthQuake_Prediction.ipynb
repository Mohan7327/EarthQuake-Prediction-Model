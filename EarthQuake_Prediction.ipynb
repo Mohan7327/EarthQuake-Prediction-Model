{
  "nbformat": 4,
  "nbformat_minor": 0,
  "metadata": {
    "colab": {
      "name": "EarthQuake Prediction.ipynb",
      "provenance": []
    },
    "kernelspec": {
      "name": "python3",
      "display_name": "Python 3"
    },
    "language_info": {
      "name": "python"
    }
  },
  "cells": [
    {
      "cell_type": "markdown",
      "source": [
        "##**Importing Necessary Libraries**"
      ],
      "metadata": {
        "id": "fpijsUTq8uJz"
      }
    },
    {
      "cell_type": "code",
      "source": [
        "!pip install basemap"
      ],
      "metadata": {
        "colab": {
          "base_uri": "https://localhost:8080/"
        },
        "id": "tbEG5Rj0rAnD",
        "outputId": "993b0119-fd38-4b01-e38e-bf397b11ab59"
      },
      "execution_count": 2,
      "outputs": [
        {
          "output_type": "stream",
          "name": "stdout",
          "text": [
            "Requirement already satisfied: basemap in /usr/local/lib/python3.7/dist-packages (1.3.2)\n",
            "Requirement already satisfied: six<1.16,>=1.10 in /usr/local/lib/python3.7/dist-packages (from basemap) (1.15.0)\n",
            "Requirement already satisfied: pyshp<2.2,>=1.2 in /usr/local/lib/python3.7/dist-packages (from basemap) (2.1.3)\n",
            "Requirement already satisfied: matplotlib<3.6,>=1.5 in /usr/local/lib/python3.7/dist-packages (from basemap) (3.2.2)\n",
            "Requirement already satisfied: numpy<1.23,>=1.21 in /usr/local/lib/python3.7/dist-packages (from basemap) (1.21.5)\n",
            "Requirement already satisfied: pyproj<3.4.0,>=1.9.3 in /usr/local/lib/python3.7/dist-packages (from basemap) (3.2.1)\n",
            "Requirement already satisfied: basemap-data<1.4,>=1.3.2 in /usr/local/lib/python3.7/dist-packages (from basemap) (1.3.2)\n",
            "Requirement already satisfied: pyparsing!=2.0.4,!=2.1.2,!=2.1.6,>=2.0.1 in /usr/local/lib/python3.7/dist-packages (from matplotlib<3.6,>=1.5->basemap) (3.0.7)\n",
            "Requirement already satisfied: cycler>=0.10 in /usr/local/lib/python3.7/dist-packages (from matplotlib<3.6,>=1.5->basemap) (0.11.0)\n",
            "Requirement already satisfied: python-dateutil>=2.1 in /usr/local/lib/python3.7/dist-packages (from matplotlib<3.6,>=1.5->basemap) (2.8.2)\n",
            "Requirement already satisfied: kiwisolver>=1.0.1 in /usr/local/lib/python3.7/dist-packages (from matplotlib<3.6,>=1.5->basemap) (1.4.0)\n",
            "Requirement already satisfied: typing-extensions in /usr/local/lib/python3.7/dist-packages (from kiwisolver>=1.0.1->matplotlib<3.6,>=1.5->basemap) (3.10.0.2)\n",
            "Requirement already satisfied: certifi in /usr/local/lib/python3.7/dist-packages (from pyproj<3.4.0,>=1.9.3->basemap) (2021.10.8)\n"
          ]
        }
      ]
    },
    {
      "cell_type": "code",
      "source": [
        "import pandas as pd\n",
        "import numpy as np\n",
        "from matplotlib import pyplot as plt\n",
        "import seaborn as sns\n",
        "\n",
        "from sklearn.model_selection import train_test_split\n",
        "from sklearn.model_selection import GridSearchCV\n",
        "\n",
        "import warnings\n",
        "warnings.filterwarnings('ignore')"
      ],
      "metadata": {
        "id": "6HMS-tkI8zYp"
      },
      "execution_count": 3,
      "outputs": []
    },
    {
      "cell_type": "markdown",
      "source": [
        "## **Importing Data**"
      ],
      "metadata": {
        "id": "f_S0X_NP818Z"
      }
    },
    {
      "cell_type": "code",
      "source": [
        "dataset = pd.read_csv('database.csv')\n",
        "dataset"
      ],
      "metadata": {
        "colab": {
          "base_uri": "https://localhost:8080/",
          "height": 522
        },
        "id": "f8ah5r4j86aw",
        "outputId": "5745470d-7a06-46c8-da34-a7ffc88871eb"
      },
      "execution_count": 4,
      "outputs": [
        {
          "output_type": "execute_result",
          "data": {
            "text/plain": [
              "             Date      Time  Latitude  Longitude        Type   Depth  \\\n",
              "0      01/02/1965  13:44:18   19.2460   145.6160  Earthquake  131.60   \n",
              "1      01/04/1965  11:29:49    1.8630   127.3520  Earthquake   80.00   \n",
              "2      01/05/1965  18:05:58  -20.5790  -173.9720  Earthquake   20.00   \n",
              "3      01/08/1965  18:49:43  -59.0760   -23.5570  Earthquake   15.00   \n",
              "4      01/09/1965  13:32:50   11.9380   126.4270  Earthquake   15.00   \n",
              "...           ...       ...       ...        ...         ...     ...   \n",
              "23407  12/28/2016  08:22:12   38.3917  -118.8941  Earthquake   12.30   \n",
              "23408  12/28/2016  09:13:47   38.3777  -118.8957  Earthquake    8.80   \n",
              "23409  12/28/2016  12:38:51   36.9179   140.4262  Earthquake   10.00   \n",
              "23410  12/29/2016  22:30:19   -9.0283   118.6639  Earthquake   79.00   \n",
              "23411  12/30/2016  20:08:28   37.3973   141.4103  Earthquake   11.94   \n",
              "\n",
              "       Depth Error  Depth Seismic Stations  Magnitude Magnitude Type  ...  \\\n",
              "0              NaN                     NaN        6.0             MW  ...   \n",
              "1              NaN                     NaN        5.8             MW  ...   \n",
              "2              NaN                     NaN        6.2             MW  ...   \n",
              "3              NaN                     NaN        5.8             MW  ...   \n",
              "4              NaN                     NaN        5.8             MW  ...   \n",
              "...            ...                     ...        ...            ...  ...   \n",
              "23407          1.2                    40.0        5.6             ML  ...   \n",
              "23408          2.0                    33.0        5.5             ML  ...   \n",
              "23409          1.8                     NaN        5.9            MWW  ...   \n",
              "23410          1.8                     NaN        6.3            MWW  ...   \n",
              "23411          2.2                     NaN        5.5             MB  ...   \n",
              "\n",
              "       Magnitude Seismic Stations  Azimuthal Gap  Horizontal Distance  \\\n",
              "0                             NaN            NaN                  NaN   \n",
              "1                             NaN            NaN                  NaN   \n",
              "2                             NaN            NaN                  NaN   \n",
              "3                             NaN            NaN                  NaN   \n",
              "4                             NaN            NaN                  NaN   \n",
              "...                           ...            ...                  ...   \n",
              "23407                        18.0          42.47                0.120   \n",
              "23408                        18.0          48.58                0.129   \n",
              "23409                         NaN          91.00                0.992   \n",
              "23410                         NaN          26.00                3.553   \n",
              "23411                       428.0          97.00                0.681   \n",
              "\n",
              "       Horizontal Error  Root Mean Square            ID  Source  \\\n",
              "0                   NaN               NaN  ISCGEM860706  ISCGEM   \n",
              "1                   NaN               NaN  ISCGEM860737  ISCGEM   \n",
              "2                   NaN               NaN  ISCGEM860762  ISCGEM   \n",
              "3                   NaN               NaN  ISCGEM860856  ISCGEM   \n",
              "4                   NaN               NaN  ISCGEM860890  ISCGEM   \n",
              "...                 ...               ...           ...     ...   \n",
              "23407               NaN            0.1898    NN00570710      NN   \n",
              "23408               NaN            0.2187    NN00570744      NN   \n",
              "23409               4.8            1.5200    US10007NAF      US   \n",
              "23410               6.0            1.4300    US10007NL0      US   \n",
              "23411               4.5            0.9100    US10007NTD      US   \n",
              "\n",
              "      Location Source Magnitude Source     Status  \n",
              "0              ISCGEM           ISCGEM  Automatic  \n",
              "1              ISCGEM           ISCGEM  Automatic  \n",
              "2              ISCGEM           ISCGEM  Automatic  \n",
              "3              ISCGEM           ISCGEM  Automatic  \n",
              "4              ISCGEM           ISCGEM  Automatic  \n",
              "...               ...              ...        ...  \n",
              "23407              NN               NN   Reviewed  \n",
              "23408              NN               NN   Reviewed  \n",
              "23409              US               US   Reviewed  \n",
              "23410              US               US   Reviewed  \n",
              "23411              US               US   Reviewed  \n",
              "\n",
              "[23412 rows x 21 columns]"
            ],
            "text/html": [
              "\n",
              "  <div id=\"df-a2499cb9-2b5d-4204-af1f-3e03dd2be8a9\">\n",
              "    <div class=\"colab-df-container\">\n",
              "      <div>\n",
              "<style scoped>\n",
              "    .dataframe tbody tr th:only-of-type {\n",
              "        vertical-align: middle;\n",
              "    }\n",
              "\n",
              "    .dataframe tbody tr th {\n",
              "        vertical-align: top;\n",
              "    }\n",
              "\n",
              "    .dataframe thead th {\n",
              "        text-align: right;\n",
              "    }\n",
              "</style>\n",
              "<table border=\"1\" class=\"dataframe\">\n",
              "  <thead>\n",
              "    <tr style=\"text-align: right;\">\n",
              "      <th></th>\n",
              "      <th>Date</th>\n",
              "      <th>Time</th>\n",
              "      <th>Latitude</th>\n",
              "      <th>Longitude</th>\n",
              "      <th>Type</th>\n",
              "      <th>Depth</th>\n",
              "      <th>Depth Error</th>\n",
              "      <th>Depth Seismic Stations</th>\n",
              "      <th>Magnitude</th>\n",
              "      <th>Magnitude Type</th>\n",
              "      <th>...</th>\n",
              "      <th>Magnitude Seismic Stations</th>\n",
              "      <th>Azimuthal Gap</th>\n",
              "      <th>Horizontal Distance</th>\n",
              "      <th>Horizontal Error</th>\n",
              "      <th>Root Mean Square</th>\n",
              "      <th>ID</th>\n",
              "      <th>Source</th>\n",
              "      <th>Location Source</th>\n",
              "      <th>Magnitude Source</th>\n",
              "      <th>Status</th>\n",
              "    </tr>\n",
              "  </thead>\n",
              "  <tbody>\n",
              "    <tr>\n",
              "      <th>0</th>\n",
              "      <td>01/02/1965</td>\n",
              "      <td>13:44:18</td>\n",
              "      <td>19.2460</td>\n",
              "      <td>145.6160</td>\n",
              "      <td>Earthquake</td>\n",
              "      <td>131.60</td>\n",
              "      <td>NaN</td>\n",
              "      <td>NaN</td>\n",
              "      <td>6.0</td>\n",
              "      <td>MW</td>\n",
              "      <td>...</td>\n",
              "      <td>NaN</td>\n",
              "      <td>NaN</td>\n",
              "      <td>NaN</td>\n",
              "      <td>NaN</td>\n",
              "      <td>NaN</td>\n",
              "      <td>ISCGEM860706</td>\n",
              "      <td>ISCGEM</td>\n",
              "      <td>ISCGEM</td>\n",
              "      <td>ISCGEM</td>\n",
              "      <td>Automatic</td>\n",
              "    </tr>\n",
              "    <tr>\n",
              "      <th>1</th>\n",
              "      <td>01/04/1965</td>\n",
              "      <td>11:29:49</td>\n",
              "      <td>1.8630</td>\n",
              "      <td>127.3520</td>\n",
              "      <td>Earthquake</td>\n",
              "      <td>80.00</td>\n",
              "      <td>NaN</td>\n",
              "      <td>NaN</td>\n",
              "      <td>5.8</td>\n",
              "      <td>MW</td>\n",
              "      <td>...</td>\n",
              "      <td>NaN</td>\n",
              "      <td>NaN</td>\n",
              "      <td>NaN</td>\n",
              "      <td>NaN</td>\n",
              "      <td>NaN</td>\n",
              "      <td>ISCGEM860737</td>\n",
              "      <td>ISCGEM</td>\n",
              "      <td>ISCGEM</td>\n",
              "      <td>ISCGEM</td>\n",
              "      <td>Automatic</td>\n",
              "    </tr>\n",
              "    <tr>\n",
              "      <th>2</th>\n",
              "      <td>01/05/1965</td>\n",
              "      <td>18:05:58</td>\n",
              "      <td>-20.5790</td>\n",
              "      <td>-173.9720</td>\n",
              "      <td>Earthquake</td>\n",
              "      <td>20.00</td>\n",
              "      <td>NaN</td>\n",
              "      <td>NaN</td>\n",
              "      <td>6.2</td>\n",
              "      <td>MW</td>\n",
              "      <td>...</td>\n",
              "      <td>NaN</td>\n",
              "      <td>NaN</td>\n",
              "      <td>NaN</td>\n",
              "      <td>NaN</td>\n",
              "      <td>NaN</td>\n",
              "      <td>ISCGEM860762</td>\n",
              "      <td>ISCGEM</td>\n",
              "      <td>ISCGEM</td>\n",
              "      <td>ISCGEM</td>\n",
              "      <td>Automatic</td>\n",
              "    </tr>\n",
              "    <tr>\n",
              "      <th>3</th>\n",
              "      <td>01/08/1965</td>\n",
              "      <td>18:49:43</td>\n",
              "      <td>-59.0760</td>\n",
              "      <td>-23.5570</td>\n",
              "      <td>Earthquake</td>\n",
              "      <td>15.00</td>\n",
              "      <td>NaN</td>\n",
              "      <td>NaN</td>\n",
              "      <td>5.8</td>\n",
              "      <td>MW</td>\n",
              "      <td>...</td>\n",
              "      <td>NaN</td>\n",
              "      <td>NaN</td>\n",
              "      <td>NaN</td>\n",
              "      <td>NaN</td>\n",
              "      <td>NaN</td>\n",
              "      <td>ISCGEM860856</td>\n",
              "      <td>ISCGEM</td>\n",
              "      <td>ISCGEM</td>\n",
              "      <td>ISCGEM</td>\n",
              "      <td>Automatic</td>\n",
              "    </tr>\n",
              "    <tr>\n",
              "      <th>4</th>\n",
              "      <td>01/09/1965</td>\n",
              "      <td>13:32:50</td>\n",
              "      <td>11.9380</td>\n",
              "      <td>126.4270</td>\n",
              "      <td>Earthquake</td>\n",
              "      <td>15.00</td>\n",
              "      <td>NaN</td>\n",
              "      <td>NaN</td>\n",
              "      <td>5.8</td>\n",
              "      <td>MW</td>\n",
              "      <td>...</td>\n",
              "      <td>NaN</td>\n",
              "      <td>NaN</td>\n",
              "      <td>NaN</td>\n",
              "      <td>NaN</td>\n",
              "      <td>NaN</td>\n",
              "      <td>ISCGEM860890</td>\n",
              "      <td>ISCGEM</td>\n",
              "      <td>ISCGEM</td>\n",
              "      <td>ISCGEM</td>\n",
              "      <td>Automatic</td>\n",
              "    </tr>\n",
              "    <tr>\n",
              "      <th>...</th>\n",
              "      <td>...</td>\n",
              "      <td>...</td>\n",
              "      <td>...</td>\n",
              "      <td>...</td>\n",
              "      <td>...</td>\n",
              "      <td>...</td>\n",
              "      <td>...</td>\n",
              "      <td>...</td>\n",
              "      <td>...</td>\n",
              "      <td>...</td>\n",
              "      <td>...</td>\n",
              "      <td>...</td>\n",
              "      <td>...</td>\n",
              "      <td>...</td>\n",
              "      <td>...</td>\n",
              "      <td>...</td>\n",
              "      <td>...</td>\n",
              "      <td>...</td>\n",
              "      <td>...</td>\n",
              "      <td>...</td>\n",
              "      <td>...</td>\n",
              "    </tr>\n",
              "    <tr>\n",
              "      <th>23407</th>\n",
              "      <td>12/28/2016</td>\n",
              "      <td>08:22:12</td>\n",
              "      <td>38.3917</td>\n",
              "      <td>-118.8941</td>\n",
              "      <td>Earthquake</td>\n",
              "      <td>12.30</td>\n",
              "      <td>1.2</td>\n",
              "      <td>40.0</td>\n",
              "      <td>5.6</td>\n",
              "      <td>ML</td>\n",
              "      <td>...</td>\n",
              "      <td>18.0</td>\n",
              "      <td>42.47</td>\n",
              "      <td>0.120</td>\n",
              "      <td>NaN</td>\n",
              "      <td>0.1898</td>\n",
              "      <td>NN00570710</td>\n",
              "      <td>NN</td>\n",
              "      <td>NN</td>\n",
              "      <td>NN</td>\n",
              "      <td>Reviewed</td>\n",
              "    </tr>\n",
              "    <tr>\n",
              "      <th>23408</th>\n",
              "      <td>12/28/2016</td>\n",
              "      <td>09:13:47</td>\n",
              "      <td>38.3777</td>\n",
              "      <td>-118.8957</td>\n",
              "      <td>Earthquake</td>\n",
              "      <td>8.80</td>\n",
              "      <td>2.0</td>\n",
              "      <td>33.0</td>\n",
              "      <td>5.5</td>\n",
              "      <td>ML</td>\n",
              "      <td>...</td>\n",
              "      <td>18.0</td>\n",
              "      <td>48.58</td>\n",
              "      <td>0.129</td>\n",
              "      <td>NaN</td>\n",
              "      <td>0.2187</td>\n",
              "      <td>NN00570744</td>\n",
              "      <td>NN</td>\n",
              "      <td>NN</td>\n",
              "      <td>NN</td>\n",
              "      <td>Reviewed</td>\n",
              "    </tr>\n",
              "    <tr>\n",
              "      <th>23409</th>\n",
              "      <td>12/28/2016</td>\n",
              "      <td>12:38:51</td>\n",
              "      <td>36.9179</td>\n",
              "      <td>140.4262</td>\n",
              "      <td>Earthquake</td>\n",
              "      <td>10.00</td>\n",
              "      <td>1.8</td>\n",
              "      <td>NaN</td>\n",
              "      <td>5.9</td>\n",
              "      <td>MWW</td>\n",
              "      <td>...</td>\n",
              "      <td>NaN</td>\n",
              "      <td>91.00</td>\n",
              "      <td>0.992</td>\n",
              "      <td>4.8</td>\n",
              "      <td>1.5200</td>\n",
              "      <td>US10007NAF</td>\n",
              "      <td>US</td>\n",
              "      <td>US</td>\n",
              "      <td>US</td>\n",
              "      <td>Reviewed</td>\n",
              "    </tr>\n",
              "    <tr>\n",
              "      <th>23410</th>\n",
              "      <td>12/29/2016</td>\n",
              "      <td>22:30:19</td>\n",
              "      <td>-9.0283</td>\n",
              "      <td>118.6639</td>\n",
              "      <td>Earthquake</td>\n",
              "      <td>79.00</td>\n",
              "      <td>1.8</td>\n",
              "      <td>NaN</td>\n",
              "      <td>6.3</td>\n",
              "      <td>MWW</td>\n",
              "      <td>...</td>\n",
              "      <td>NaN</td>\n",
              "      <td>26.00</td>\n",
              "      <td>3.553</td>\n",
              "      <td>6.0</td>\n",
              "      <td>1.4300</td>\n",
              "      <td>US10007NL0</td>\n",
              "      <td>US</td>\n",
              "      <td>US</td>\n",
              "      <td>US</td>\n",
              "      <td>Reviewed</td>\n",
              "    </tr>\n",
              "    <tr>\n",
              "      <th>23411</th>\n",
              "      <td>12/30/2016</td>\n",
              "      <td>20:08:28</td>\n",
              "      <td>37.3973</td>\n",
              "      <td>141.4103</td>\n",
              "      <td>Earthquake</td>\n",
              "      <td>11.94</td>\n",
              "      <td>2.2</td>\n",
              "      <td>NaN</td>\n",
              "      <td>5.5</td>\n",
              "      <td>MB</td>\n",
              "      <td>...</td>\n",
              "      <td>428.0</td>\n",
              "      <td>97.00</td>\n",
              "      <td>0.681</td>\n",
              "      <td>4.5</td>\n",
              "      <td>0.9100</td>\n",
              "      <td>US10007NTD</td>\n",
              "      <td>US</td>\n",
              "      <td>US</td>\n",
              "      <td>US</td>\n",
              "      <td>Reviewed</td>\n",
              "    </tr>\n",
              "  </tbody>\n",
              "</table>\n",
              "<p>23412 rows × 21 columns</p>\n",
              "</div>\n",
              "      <button class=\"colab-df-convert\" onclick=\"convertToInteractive('df-a2499cb9-2b5d-4204-af1f-3e03dd2be8a9')\"\n",
              "              title=\"Convert this dataframe to an interactive table.\"\n",
              "              style=\"display:none;\">\n",
              "        \n",
              "  <svg xmlns=\"http://www.w3.org/2000/svg\" height=\"24px\"viewBox=\"0 0 24 24\"\n",
              "       width=\"24px\">\n",
              "    <path d=\"M0 0h24v24H0V0z\" fill=\"none\"/>\n",
              "    <path d=\"M18.56 5.44l.94 2.06.94-2.06 2.06-.94-2.06-.94-.94-2.06-.94 2.06-2.06.94zm-11 1L8.5 8.5l.94-2.06 2.06-.94-2.06-.94L8.5 2.5l-.94 2.06-2.06.94zm10 10l.94 2.06.94-2.06 2.06-.94-2.06-.94-.94-2.06-.94 2.06-2.06.94z\"/><path d=\"M17.41 7.96l-1.37-1.37c-.4-.4-.92-.59-1.43-.59-.52 0-1.04.2-1.43.59L10.3 9.45l-7.72 7.72c-.78.78-.78 2.05 0 2.83L4 21.41c.39.39.9.59 1.41.59.51 0 1.02-.2 1.41-.59l7.78-7.78 2.81-2.81c.8-.78.8-2.07 0-2.86zM5.41 20L4 18.59l7.72-7.72 1.47 1.35L5.41 20z\"/>\n",
              "  </svg>\n",
              "      </button>\n",
              "      \n",
              "  <style>\n",
              "    .colab-df-container {\n",
              "      display:flex;\n",
              "      flex-wrap:wrap;\n",
              "      gap: 12px;\n",
              "    }\n",
              "\n",
              "    .colab-df-convert {\n",
              "      background-color: #E8F0FE;\n",
              "      border: none;\n",
              "      border-radius: 50%;\n",
              "      cursor: pointer;\n",
              "      display: none;\n",
              "      fill: #1967D2;\n",
              "      height: 32px;\n",
              "      padding: 0 0 0 0;\n",
              "      width: 32px;\n",
              "    }\n",
              "\n",
              "    .colab-df-convert:hover {\n",
              "      background-color: #E2EBFA;\n",
              "      box-shadow: 0px 1px 2px rgba(60, 64, 67, 0.3), 0px 1px 3px 1px rgba(60, 64, 67, 0.15);\n",
              "      fill: #174EA6;\n",
              "    }\n",
              "\n",
              "    [theme=dark] .colab-df-convert {\n",
              "      background-color: #3B4455;\n",
              "      fill: #D2E3FC;\n",
              "    }\n",
              "\n",
              "    [theme=dark] .colab-df-convert:hover {\n",
              "      background-color: #434B5C;\n",
              "      box-shadow: 0px 1px 3px 1px rgba(0, 0, 0, 0.15);\n",
              "      filter: drop-shadow(0px 1px 2px rgba(0, 0, 0, 0.3));\n",
              "      fill: #FFFFFF;\n",
              "    }\n",
              "  </style>\n",
              "\n",
              "      <script>\n",
              "        const buttonEl =\n",
              "          document.querySelector('#df-a2499cb9-2b5d-4204-af1f-3e03dd2be8a9 button.colab-df-convert');\n",
              "        buttonEl.style.display =\n",
              "          google.colab.kernel.accessAllowed ? 'block' : 'none';\n",
              "\n",
              "        async function convertToInteractive(key) {\n",
              "          const element = document.querySelector('#df-a2499cb9-2b5d-4204-af1f-3e03dd2be8a9');\n",
              "          const dataTable =\n",
              "            await google.colab.kernel.invokeFunction('convertToInteractive',\n",
              "                                                     [key], {});\n",
              "          if (!dataTable) return;\n",
              "\n",
              "          const docLinkHtml = 'Like what you see? Visit the ' +\n",
              "            '<a target=\"_blank\" href=https://colab.research.google.com/notebooks/data_table.ipynb>data table notebook</a>'\n",
              "            + ' to learn more about interactive tables.';\n",
              "          element.innerHTML = '';\n",
              "          dataTable['output_type'] = 'display_data';\n",
              "          await google.colab.output.renderOutput(dataTable, element);\n",
              "          const docLink = document.createElement('div');\n",
              "          docLink.innerHTML = docLinkHtml;\n",
              "          element.appendChild(docLink);\n",
              "        }\n",
              "      </script>\n",
              "    </div>\n",
              "  </div>\n",
              "  "
            ]
          },
          "metadata": {},
          "execution_count": 4
        }
      ]
    },
    {
      "cell_type": "markdown",
      "source": [
        "## **Data Understanding**"
      ],
      "metadata": {
        "id": "eSR6vL8JBARN"
      }
    },
    {
      "cell_type": "code",
      "source": [
        "dataset.shape"
      ],
      "metadata": {
        "colab": {
          "base_uri": "https://localhost:8080/"
        },
        "id": "0ZzEQE6_BDyD",
        "outputId": "2394d07f-4562-4ad7-fbc3-2403ee4de629"
      },
      "execution_count": 5,
      "outputs": [
        {
          "output_type": "execute_result",
          "data": {
            "text/plain": [
              "(23412, 21)"
            ]
          },
          "metadata": {},
          "execution_count": 5
        }
      ]
    },
    {
      "cell_type": "code",
      "source": [
        "dataset.isna().sum()"
      ],
      "metadata": {
        "colab": {
          "base_uri": "https://localhost:8080/"
        },
        "id": "oQCRMIWCBF6T",
        "outputId": "a5184ac5-6096-42f7-cf30-25f89aeeb31b"
      },
      "execution_count": 6,
      "outputs": [
        {
          "output_type": "execute_result",
          "data": {
            "text/plain": [
              "Date                              0\n",
              "Time                              0\n",
              "Latitude                          0\n",
              "Longitude                         0\n",
              "Type                              0\n",
              "Depth                             0\n",
              "Depth Error                   18951\n",
              "Depth Seismic Stations        16315\n",
              "Magnitude                         0\n",
              "Magnitude Type                    3\n",
              "Magnitude Error               23085\n",
              "Magnitude Seismic Stations    20848\n",
              "Azimuthal Gap                 16113\n",
              "Horizontal Distance           21808\n",
              "Horizontal Error              22256\n",
              "Root Mean Square               6060\n",
              "ID                                0\n",
              "Source                            0\n",
              "Location Source                   0\n",
              "Magnitude Source                  0\n",
              "Status                            0\n",
              "dtype: int64"
            ]
          },
          "metadata": {},
          "execution_count": 6
        }
      ]
    },
    {
      "cell_type": "code",
      "source": [
        "dataset.dtypes"
      ],
      "metadata": {
        "colab": {
          "base_uri": "https://localhost:8080/"
        },
        "id": "BmcU0hlrBIK7",
        "outputId": "2e5f821c-c841-45e3-c74c-3f4bb08445a0"
      },
      "execution_count": 7,
      "outputs": [
        {
          "output_type": "execute_result",
          "data": {
            "text/plain": [
              "Date                           object\n",
              "Time                           object\n",
              "Latitude                      float64\n",
              "Longitude                     float64\n",
              "Type                           object\n",
              "Depth                         float64\n",
              "Depth Error                   float64\n",
              "Depth Seismic Stations        float64\n",
              "Magnitude                     float64\n",
              "Magnitude Type                 object\n",
              "Magnitude Error               float64\n",
              "Magnitude Seismic Stations    float64\n",
              "Azimuthal Gap                 float64\n",
              "Horizontal Distance           float64\n",
              "Horizontal Error              float64\n",
              "Root Mean Square              float64\n",
              "ID                             object\n",
              "Source                         object\n",
              "Location Source                object\n",
              "Magnitude Source               object\n",
              "Status                         object\n",
              "dtype: object"
            ]
          },
          "metadata": {},
          "execution_count": 7
        }
      ]
    },
    {
      "cell_type": "code",
      "source": [
        "plt.figure(figsize=(12,8))\n",
        "sns.heatmap(dataset.isnull(),yticklabels=False,cbar=False,cmap='viridis')\n",
        "plt.show()"
      ],
      "metadata": {
        "colab": {
          "base_uri": "https://localhost:8080/",
          "height": 610
        },
        "id": "8qEYTcoVBMFb",
        "outputId": "fe6149c7-eda7-4b9e-f3bd-1ba7326def25"
      },
      "execution_count": 8,
      "outputs": [
        {
          "output_type": "display_data",
          "data": {
            "text/plain": [
              "<Figure size 864x576 with 1 Axes>"
            ],
            "image/png": "[encoded data removed]"
          },
          "metadata": {
            "needs_background": "light"
          }
        }
      ]
    },
    {
      "cell_type": "code",
      "source": [
        "dataset.columns"
      ],
      "metadata": {
        "colab": {
          "base_uri": "https://localhost:8080/"
        },
        "id": "a0gwxO9lDhrP",
        "outputId": "938a3e04-eb82-476f-e70d-2cbd3bff5fde"
      },
      "execution_count": 9,
      "outputs": [
        {
          "output_type": "execute_result",
          "data": {
            "text/plain": [
              "Index(['Date', 'Time', 'Latitude', 'Longitude', 'Type', 'Depth', 'Depth Error',\n",
              "       'Depth Seismic Stations', 'Magnitude', 'Magnitude Type',\n",
              "       'Magnitude Error', 'Magnitude Seismic Stations', 'Azimuthal Gap',\n",
              "       'Horizontal Distance', 'Horizontal Error', 'Root Mean Square', 'ID',\n",
              "       'Source', 'Location Source', 'Magnitude Source', 'Status'],\n",
              "      dtype='object')"
            ]
          },
          "metadata": {},
          "execution_count": 9
        }
      ]
    },
    {
      "cell_type": "code",
      "source": [
        "data = dataset[['Date', 'Time', 'Latitude', 'Longitude', 'Depth', 'Magnitude']]\n",
        "data.head()"
      ],
      "metadata": {
        "colab": {
          "base_uri": "https://localhost:8080/",
          "height": 206
        },
        "id": "B-KwShr7DpRG",
        "outputId": "1dd19556-0657-4d23-a9a4-c7b790120e8e"
      },
      "execution_count": 10,
      "outputs": [
        {
          "output_type": "execute_result",
          "data": {
            "text/plain": [
              "         Date      Time  Latitude  Longitude  Depth  Magnitude\n",
              "0  01/02/1965  13:44:18    19.246    145.616  131.6        6.0\n",
              "1  01/04/1965  11:29:49     1.863    127.352   80.0        5.8\n",
              "2  01/05/1965  18:05:58   -20.579   -173.972   20.0        6.2\n",
              "3  01/08/1965  18:49:43   -59.076    -23.557   15.0        5.8\n",
              "4  01/09/1965  13:32:50    11.938    126.427   15.0        5.8"
            ],
            "text/html": [
              "\n",
              "  <div id=\"df-a08d0cf6-0169-4ece-92db-c6f698995216\">\n",
              "    <div class=\"colab-df-container\">\n",
              "      <div>\n",
              "<style scoped>\n",
              "    .dataframe tbody tr th:only-of-type {\n",
              "        vertical-align: middle;\n",
              "    }\n",
              "\n",
              "    .dataframe tbody tr th {\n",
              "        vertical-align: top;\n",
              "    }\n",
              "\n",
              "    .dataframe thead th {\n",
              "        text-align: right;\n",
              "    }\n",
              "</style>\n",
              "<table border=\"1\" class=\"dataframe\">\n",
              "  <thead>\n",
              "    <tr style=\"text-align: right;\">\n",
              "      <th></th>\n",
              "      <th>Date</th>\n",
              "      <th>Time</th>\n",
              "      <th>Latitude</th>\n",
              "      <th>Longitude</th>\n",
              "      <th>Depth</th>\n",
              "      <th>Magnitude</th>\n",
              "    </tr>\n",
              "  </thead>\n",
              "  <tbody>\n",
              "    <tr>\n",
              "      <th>0</th>\n",
              "      <td>01/02/1965</td>\n",
              "      <td>13:44:18</td>\n",
              "      <td>19.246</td>\n",
              "      <td>145.616</td>\n",
              "      <td>131.6</td>\n",
              "      <td>6.0</td>\n",
              "    </tr>\n",
              "    <tr>\n",
              "      <th>1</th>\n",
              "      <td>01/04/1965</td>\n",
              "      <td>11:29:49</td>\n",
              "      <td>1.863</td>\n",
              "      <td>127.352</td>\n",
              "      <td>80.0</td>\n",
              "      <td>5.8</td>\n",
              "    </tr>\n",
              "    <tr>\n",
              "      <th>2</th>\n",
              "      <td>01/05/1965</td>\n",
              "      <td>18:05:58</td>\n",
              "      <td>-20.579</td>\n",
              "      <td>-173.972</td>\n",
              "      <td>20.0</td>\n",
              "      <td>6.2</td>\n",
              "    </tr>\n",
              "    <tr>\n",
              "      <th>3</th>\n",
              "      <td>01/08/1965</td>\n",
              "      <td>18:49:43</td>\n",
              "      <td>-59.076</td>\n",
              "      <td>-23.557</td>\n",
              "      <td>15.0</td>\n",
              "      <td>5.8</td>\n",
              "    </tr>\n",
              "    <tr>\n",
              "      <th>4</th>\n",
              "      <td>01/09/1965</td>\n",
              "      <td>13:32:50</td>\n",
              "      <td>11.938</td>\n",
              "      <td>126.427</td>\n",
              "      <td>15.0</td>\n",
              "      <td>5.8</td>\n",
              "    </tr>\n",
              "  </tbody>\n",
              "</table>\n",
              "</div>\n",
              "      <button class=\"colab-df-convert\" onclick=\"convertToInteractive('df-a08d0cf6-0169-4ece-92db-c6f698995216')\"\n",
              "              title=\"Convert this dataframe to an interactive table.\"\n",
              "              style=\"display:none;\">\n",
              "        \n",
              "  <svg xmlns=\"http://www.w3.org/2000/svg\" height=\"24px\"viewBox=\"0 0 24 24\"\n",
              "       width=\"24px\">\n",
              "    <path d=\"M0 0h24v24H0V0z\" fill=\"none\"/>\n",
              "    <path d=\"M18.56 5.44l.94 2.06.94-2.06 2.06-.94-2.06-.94-.94-2.06-.94 2.06-2.06.94zm-11 1L8.5 8.5l.94-2.06 2.06-.94-2.06-.94L8.5 2.5l-.94 2.06-2.06.94zm10 10l.94 2.06.94-2.06 2.06-.94-2.06-.94-.94-2.06-.94 2.06-2.06.94z\"/><path d=\"M17.41 7.96l-1.37-1.37c-.4-.4-.92-.59-1.43-.59-.52 0-1.04.2-1.43.59L10.3 9.45l-7.72 7.72c-.78.78-.78 2.05 0 2.83L4 21.41c.39.39.9.59 1.41.59.51 0 1.02-.2 1.41-.59l7.78-7.78 2.81-2.81c.8-.78.8-2.07 0-2.86zM5.41 20L4 18.59l7.72-7.72 1.47 1.35L5.41 20z\"/>\n",
              "  </svg>\n",
              "      </button>\n",
              "      \n",
              "  <style>\n",
              "    .colab-df-container {\n",
              "      display:flex;\n",
              "      flex-wrap:wrap;\n",
              "      gap: 12px;\n",
              "    }\n",
              "\n",
              "    .colab-df-convert {\n",
              "      background-color: #E8F0FE;\n",
              "      border: none;\n",
              "      border-radius: 50%;\n",
              "      cursor: pointer;\n",
              "      display: none;\n",
              "      fill: #1967D2;\n",
              "      height: 32px;\n",
              "      padding: 0 0 0 0;\n",
              "      width: 32px;\n",
              "    }\n",
              "\n",
              "    .colab-df-convert:hover {\n",
              "      background-color: #E2EBFA;\n",
              "      box-shadow: 0px 1px 2px rgba(60, 64, 67, 0.3), 0px 1px 3px 1px rgba(60, 64, 67, 0.15);\n",
              "      fill: #174EA6;\n",
              "    }\n",
              "\n",
              "    [theme=dark] .colab-df-convert {\n",
              "      background-color: #3B4455;\n",
              "      fill: #D2E3FC;\n",
              "    }\n",
              "\n",
              "    [theme=dark] .colab-df-convert:hover {\n",
              "      background-color: #434B5C;\n",
              "      box-shadow: 0px 1px 3px 1px rgba(0, 0, 0, 0.15);\n",
              "      filter: drop-shadow(0px 1px 2px rgba(0, 0, 0, 0.3));\n",
              "      fill: #FFFFFF;\n",
              "    }\n",
              "  </style>\n",
              "\n",
              "      <script>\n",
              "        const buttonEl =\n",
              "          document.querySelector('#df-a08d0cf6-0169-4ece-92db-c6f698995216 button.colab-df-convert');\n",
              "        buttonEl.style.display =\n",
              "          google.colab.kernel.accessAllowed ? 'block' : 'none';\n",
              "\n",
              "        async function convertToInteractive(key) {\n",
              "          const element = document.querySelector('#df-a08d0cf6-0169-4ece-92db-c6f698995216');\n",
              "          const dataTable =\n",
              "            await google.colab.kernel.invokeFunction('convertToInteractive',\n",
              "                                                     [key], {});\n",
              "          if (!dataTable) return;\n",
              "\n",
              "          const docLinkHtml = 'Like what you see? Visit the ' +\n",
              "            '<a target=\"_blank\" href=https://colab.research.google.com/notebooks/data_table.ipynb>data table notebook</a>'\n",
              "            + ' to learn more about interactive tables.';\n",
              "          element.innerHTML = '';\n",
              "          dataTable['output_type'] = 'display_data';\n",
              "          await google.colab.output.renderOutput(dataTable, element);\n",
              "          const docLink = document.createElement('div');\n",
              "          docLink.innerHTML = docLinkHtml;\n",
              "          element.appendChild(docLink);\n",
              "        }\n",
              "      </script>\n",
              "    </div>\n",
              "  </div>\n",
              "  "
            ]
          },
          "metadata": {},
          "execution_count": 10
        }
      ]
    },
    {
      "cell_type": "code",
      "source": [
        "import datetime\n",
        "import time\n",
        "\n",
        "timestamp = []\n",
        "for d, t in zip(data['Date'], data['Time']):\n",
        "    try:\n",
        "        ts = datetime.datetime.strptime(d+' '+t, '%m/%d/%Y %H:%M:%S')\n",
        "        timestamp.append(time.mktime(ts.timetuple()))\n",
        "    except ValueError:\n",
        "        # print('ValueError')\n",
        "        timestamp.append('ValueError')\n",
        "timeStamp = pd.Series(timestamp)\n",
        "data['Timestamp'] = timeStamp.values\n",
        "final_data = data.drop(['Date', 'Time'], axis=1)\n",
        "final_data = final_data[final_data.Timestamp != 'ValueError']\n",
        "final_data.head()"
      ],
      "metadata": {
        "id": "BZxSZSqPD1Qn",
        "outputId": "ad0a344a-542e-4c54-811c-53cbbe822925",
        "colab": {
          "base_uri": "https://localhost:8080/",
          "height": 206
        }
      },
      "execution_count": 11,
      "outputs": [
        {
          "output_type": "execute_result",
          "data": {
            "text/plain": [
              "   Latitude  Longitude  Depth  Magnitude    Timestamp\n",
              "0    19.246    145.616  131.6        6.0 -157630542.0\n",
              "1     1.863    127.352   80.0        5.8 -157465811.0\n",
              "2   -20.579   -173.972   20.0        6.2 -157355642.0\n",
              "3   -59.076    -23.557   15.0        5.8 -157093817.0\n",
              "4    11.938    126.427   15.0        5.8 -157026430.0"
            ],
            "text/html": [
              "\n",
              "  <div id=\"df-bb7371ec-fbbc-4c19-a987-723a48d2c59e\">\n",
              "    <div class=\"colab-df-container\">\n",
              "      <div>\n",
              "<style scoped>\n",
              "    .dataframe tbody tr th:only-of-type {\n",
              "        vertical-align: middle;\n",
              "    }\n",
              "\n",
              "    .dataframe tbody tr th {\n",
              "        vertical-align: top;\n",
              "    }\n",
              "\n",
              "    .dataframe thead th {\n",
              "        text-align: right;\n",
              "    }\n",
              "</style>\n",
              "<table border=\"1\" class=\"dataframe\">\n",
              "  <thead>\n",
              "    <tr style=\"text-align: right;\">\n",
              "      <th></th>\n",
              "      <th>Latitude</th>\n",
              "      <th>Longitude</th>\n",
              "      <th>Depth</th>\n",
              "      <th>Magnitude</th>\n",
              "      <th>Timestamp</th>\n",
              "    </tr>\n",
              "  </thead>\n",
              "  <tbody>\n",
              "    <tr>\n",
              "      <th>0</th>\n",
              "      <td>19.246</td>\n",
              "      <td>145.616</td>\n",
              "      <td>131.6</td>\n",
              "      <td>6.0</td>\n",
              "      <td>-157630542.0</td>\n",
              "    </tr>\n",
              "    <tr>\n",
              "      <th>1</th>\n",
              "      <td>1.863</td>\n",
              "      <td>127.352</td>\n",
              "      <td>80.0</td>\n",
              "      <td>5.8</td>\n",
              "      <td>-157465811.0</td>\n",
              "    </tr>\n",
              "    <tr>\n",
              "      <th>2</th>\n",
              "      <td>-20.579</td>\n",
              "      <td>-173.972</td>\n",
              "      <td>20.0</td>\n",
              "      <td>6.2</td>\n",
              "      <td>-157355642.0</td>\n",
              "    </tr>\n",
              "    <tr>\n",
              "      <th>3</th>\n",
              "      <td>-59.076</td>\n",
              "      <td>-23.557</td>\n",
              "      <td>15.0</td>\n",
              "      <td>5.8</td>\n",
              "      <td>-157093817.0</td>\n",
              "    </tr>\n",
              "    <tr>\n",
              "      <th>4</th>\n",
              "      <td>11.938</td>\n",
              "      <td>126.427</td>\n",
              "      <td>15.0</td>\n",
              "      <td>5.8</td>\n",
              "      <td>-157026430.0</td>\n",
              "    </tr>\n",
              "  </tbody>\n",
              "</table>\n",
              "</div>\n",
              "      <button class=\"colab-df-convert\" onclick=\"convertToInteractive('df-bb7371ec-fbbc-4c19-a987-723a48d2c59e')\"\n",
              "              title=\"Convert this dataframe to an interactive table.\"\n",
              "              style=\"display:none;\">\n",
              "        \n",
              "  <svg xmlns=\"http://www.w3.org/2000/svg\" height=\"24px\"viewBox=\"0 0 24 24\"\n",
              "       width=\"24px\">\n",
              "    <path d=\"M0 0h24v24H0V0z\" fill=\"none\"/>\n",
              "    <path d=\"M18.56 5.44l.94 2.06.94-2.06 2.06-.94-2.06-.94-.94-2.06-.94 2.06-2.06.94zm-11 1L8.5 8.5l.94-2.06 2.06-.94-2.06-.94L8.5 2.5l-.94 2.06-2.06.94zm10 10l.94 2.06.94-2.06 2.06-.94-2.06-.94-.94-2.06-.94 2.06-2.06.94z\"/><path d=\"M17.41 7.96l-1.37-1.37c-.4-.4-.92-.59-1.43-.59-.52 0-1.04.2-1.43.59L10.3 9.45l-7.72 7.72c-.78.78-.78 2.05 0 2.83L4 21.41c.39.39.9.59 1.41.59.51 0 1.02-.2 1.41-.59l7.78-7.78 2.81-2.81c.8-.78.8-2.07 0-2.86zM5.41 20L4 18.59l7.72-7.72 1.47 1.35L5.41 20z\"/>\n",
              "  </svg>\n",
              "      </button>\n",
              "      \n",
              "  <style>\n",
              "    .colab-df-container {\n",
              "      display:flex;\n",
              "      flex-wrap:wrap;\n",
              "      gap: 12px;\n",
              "    }\n",
              "\n",
              "    .colab-df-convert {\n",
              "      background-color: #E8F0FE;\n",
              "      border: none;\n",
              "      border-radius: 50%;\n",
              "      cursor: pointer;\n",
              "      display: none;\n",
              "      fill: #1967D2;\n",
              "      height: 32px;\n",
              "      padding: 0 0 0 0;\n",
              "      width: 32px;\n",
              "    }\n",
              "\n",
              "    .colab-df-convert:hover {\n",
              "      background-color: #E2EBFA;\n",
              "      box-shadow: 0px 1px 2px rgba(60, 64, 67, 0.3), 0px 1px 3px 1px rgba(60, 64, 67, 0.15);\n",
              "      fill: #174EA6;\n",
              "    }\n",
              "\n",
              "    [theme=dark] .colab-df-convert {\n",
              "      background-color: #3B4455;\n",
              "      fill: #D2E3FC;\n",
              "    }\n",
              "\n",
              "    [theme=dark] .colab-df-convert:hover {\n",
              "      background-color: #434B5C;\n",
              "      box-shadow: 0px 1px 3px 1px rgba(0, 0, 0, 0.15);\n",
              "      filter: drop-shadow(0px 1px 2px rgba(0, 0, 0, 0.3));\n",
              "      fill: #FFFFFF;\n",
              "    }\n",
              "  </style>\n",
              "\n",
              "      <script>\n",
              "        const buttonEl =\n",
              "          document.querySelector('#df-bb7371ec-fbbc-4c19-a987-723a48d2c59e button.colab-df-convert');\n",
              "        buttonEl.style.display =\n",
              "          google.colab.kernel.accessAllowed ? 'block' : 'none';\n",
              "\n",
              "        async function convertToInteractive(key) {\n",
              "          const element = document.querySelector('#df-bb7371ec-fbbc-4c19-a987-723a48d2c59e');\n",
              "          const dataTable =\n",
              "            await google.colab.kernel.invokeFunction('convertToInteractive',\n",
              "                                                     [key], {});\n",
              "          if (!dataTable) return;\n",
              "\n",
              "          const docLinkHtml = 'Like what you see? Visit the ' +\n",
              "            '<a target=\"_blank\" href=https://colab.research.google.com/notebooks/data_table.ipynb>data table notebook</a>'\n",
              "            + ' to learn more about interactive tables.';\n",
              "          element.innerHTML = '';\n",
              "          dataTable['output_type'] = 'display_data';\n",
              "          await google.colab.output.renderOutput(dataTable, element);\n",
              "          const docLink = document.createElement('div');\n",
              "          docLink.innerHTML = docLinkHtml;\n",
              "          element.appendChild(docLink);\n",
              "        }\n",
              "      </script>\n",
              "    </div>\n",
              "  </div>\n",
              "  "
            ]
          },
          "metadata": {},
          "execution_count": 11
        }
      ]
    },
    {
      "cell_type": "markdown",
      "source": [
        "## **Data Vizualization**"
      ],
      "metadata": {
        "id": "DkzRq79crhGL"
      }
    },
    {
      "cell_type": "code",
      "source": [
        "from mpl_toolkits.basemap import Basemap\n",
        "\n",
        "m = Basemap(projection='mill',llcrnrlat=-80,urcrnrlat=80, llcrnrlon=-180,urcrnrlon=180,lat_ts=20,resolution='c')\n",
        "\n",
        "longitudes = data[\"Longitude\"].tolist()\n",
        "latitudes = data[\"Latitude\"].tolist()\n",
        "#m = Basemap(width=12000000,height=9000000,projection='lcc',\n",
        "            #resolution=None,lat_1=80.,lat_2=55,lat_0=80,lon_0=-107.)\n",
        "x,y = m(longitudes,latitudes)\n",
        "\n",
        "fig = plt.figure(figsize=(12,10))\n",
        "plt.title(\"All affected areas\",size = 20)\n",
        "m.plot(x, y, \"o\", markersize = 2, color = 'blue')\n",
        "m.drawcoastlines()\n",
        "m.fillcontinents(color='coral',lake_color='aqua')\n",
        "m.drawmapboundary()\n",
        "m.drawcountries()\n",
        "plt.show()"
      ],
      "metadata": {
        "id": "ggDXfbN3qCa2",
        "colab": {
          "base_uri": "https://localhost:8080/",
          "height": 446
        },
        "outputId": "815830e8-1904-48ca-a0d5-2a00381617c5"
      },
      "execution_count": 12,
      "outputs": [
        {
          "output_type": "display_data",
          "data": {
            "text/plain": [
              "<Figure size 864x720 with 1 Axes>"
            ],
            "image/png": "[encoded data removed]"
          },
          "metadata": {}
        }
      ]
    },
    {
      "cell_type": "markdown",
      "source": [
        "## **Model Building**"
      ],
      "metadata": {
        "id": "78qzbga4rm3B"
      }
    },
    {
      "cell_type": "code",
      "source": [
        "x = final_data[['Timestamp', 'Latitude', 'Longitude']]\n",
        "y = final_data[['Magnitude', 'Depth']]"
      ],
      "metadata": {
        "id": "LoWY4QvYrprB"
      },
      "execution_count": 13,
      "outputs": []
    },
    {
      "cell_type": "code",
      "source": [
        "x_train,x_test,y_train,y_test = train_test_split(x,y,random_state = 12,test_size = 0.20)"
      ],
      "metadata": {
        "id": "DdjNA8m2sCjz"
      },
      "execution_count": 14,
      "outputs": []
    },
    {
      "cell_type": "code",
      "source": [
        "x_train.shape,x_test.shape,y_train.shape,y_test.shape "
      ],
      "metadata": {
        "colab": {
          "base_uri": "https://localhost:8080/"
        },
        "id": "UZIFUo13sTRx",
        "outputId": "e9bd8806-768a-4657-87e9-a0cd6587fdf8"
      },
      "execution_count": 15,
      "outputs": [
        {
          "output_type": "execute_result",
          "data": {
            "text/plain": [
              "((18727, 3), (4682, 3), (18727, 2), (4682, 2))"
            ]
          },
          "metadata": {},
          "execution_count": 15
        }
      ]
    },
    {
      "cell_type": "markdown",
      "source": [
        "##**Neural Network for Earthquake Prediction**"
      ],
      "metadata": {
        "id": "CgaCwoh4skLY"
      }
    },
    {
      "cell_type": "markdown",
      "source": [
        "Now I will create a neural network to fit the data from the training set. Our neural network will consist of three dense layers each with 16, 16, 2 nodes and reread. Relu and softmax will be used as activation functions:"
      ],
      "metadata": {
        "id": "hk8_OOyysng6"
      }
    },
    {
      "cell_type": "code",
      "source": [
        "from keras.models import Sequential\n",
        "from keras.layers import Dense\n",
        "\n",
        "def create_model(neurons, activation, optimizer, loss):\n",
        "    model = Sequential()\n",
        "    model.add(Dense(neurons, activation=activation, input_shape=(3,)))\n",
        "    model.add(Dense(neurons, activation=activation))\n",
        "    model.add(Dense(2, activation='softmax'))\n",
        "    \n",
        "    model.compile(optimizer=optimizer, loss=loss, metrics=['accuracy'])\n",
        "    \n",
        "    return model"
      ],
      "metadata": {
        "id": "qhE6RXPgsmwg"
      },
      "execution_count": 16,
      "outputs": []
    },
    {
      "cell_type": "code",
      "source": [
        "# Now I’m going to define the hyperparameters with two or more options to find the best fit:\n",
        "from keras.wrappers.scikit_learn import KerasClassifier\n",
        "\n",
        "model = KerasClassifier(build_fn=create_model, verbose=0)\n",
        "\n",
        "# neurons = [16, 64, 128, 256]\n",
        "neurons = [16]\n",
        "# batch_size = [10, 20, 50, 100]\n",
        "batch_size = [10]\n",
        "epochs = [10]\n",
        "# activation = ['relu', 'tanh', 'sigmoid', 'hard_sigmoid', 'linear', 'exponential']\n",
        "activation = ['sigmoid', 'relu']\n",
        "# optimizer = ['SGD', 'RMSprop', 'Adagrad', 'Adadelta', 'Adam', 'Adamax', 'Nadam']\n",
        "optimizer = ['SGD', 'Adadelta']\n",
        "loss = ['squared_hinge']\n",
        "\n",
        "param_grid = dict(neurons=neurons, batch_size=batch_size, epochs=epochs, activation=activation, optimizer=optimizer, loss=loss)"
      ],
      "metadata": {
        "id": "dcsmfP8bsySZ"
      },
      "execution_count": 17,
      "outputs": []
    },
    {
      "cell_type": "code",
      "source": [
        "x_train = np.asarray(x_train).astype(np.float32)\n",
        "y_train = np.asarray(y_train).astype(np.float32)"
      ],
      "metadata": {
        "id": "LvCzipN7xDDZ"
      },
      "execution_count": 25,
      "outputs": []
    },
    {
      "cell_type": "code",
      "source": [
        "x_test = np.asarray(x_test).astype(np.float32)\n",
        "y_test = np.asarray(y_test).astype(np.float32)"
      ],
      "metadata": {
        "id": "rrgGhdGTz7wr"
      },
      "execution_count": 23,
      "outputs": []
    },
    {
      "cell_type": "code",
      "source": [
        "# Now we need to find the best fit of the above model and get the mean test score and standard deviation of the best fit model:\n",
        "grid = GridSearchCV(estimator=model, param_grid=param_grid, n_jobs=-1)\n",
        "grid_result = grid.fit(x_train, y_train)\n",
        "\n",
        "print(\"Best: %f using %s\" % (grid_result.best_score_, grid_result.best_params_))\n",
        "means = grid_result.cv_results_['mean_test_score']\n",
        "stds = grid_result.cv_results_['std_test_score']\n",
        "params = grid_result.cv_results_['params']\n",
        "for mean, stdev, param in zip(means, stds, params):\n",
        "    print(\"%f (%f) with: %r\" % (mean, stdev, param))"
      ],
      "metadata": {
        "colab": {
          "base_uri": "https://localhost:8080/"
        },
        "id": "aH7glZUMtDbg",
        "outputId": "f75c5694-64bf-4577-fbb0-f96d5e7e45ef"
      },
      "execution_count": 19,
      "outputs": [
        {
          "output_type": "stream",
          "name": "stdout",
          "text": [
            "Best: 1.000000 using {'activation': 'sigmoid', 'batch_size': 10, 'epochs': 10, 'loss': 'squared_hinge', 'neurons': 16, 'optimizer': 'Adadelta'}\n",
            "0.600000 (0.489898) with: {'activation': 'sigmoid', 'batch_size': 10, 'epochs': 10, 'loss': 'squared_hinge', 'neurons': 16, 'optimizer': 'SGD'}\n",
            "1.000000 (0.000000) with: {'activation': 'sigmoid', 'batch_size': 10, 'epochs': 10, 'loss': 'squared_hinge', 'neurons': 16, 'optimizer': 'Adadelta'}\n",
            "0.413351 (0.479617) with: {'activation': 'relu', 'batch_size': 10, 'epochs': 10, 'loss': 'squared_hinge', 'neurons': 16, 'optimizer': 'SGD'}\n",
            "0.610838 (0.450046) with: {'activation': 'relu', 'batch_size': 10, 'epochs': 10, 'loss': 'squared_hinge', 'neurons': 16, 'optimizer': 'Adadelta'}\n"
          ]
        }
      ]
    },
    {
      "cell_type": "markdown",
      "source": [
        "## **Model Training**"
      ],
      "metadata": {
        "id": "dWYTSavu0aLE"
      }
    },
    {
      "cell_type": "code",
      "source": [
        "# The best-fit parameters are used for the same model to calculate the score with the training data and the test data:\n",
        "model = Sequential()\n",
        "model.add(Dense(16, activation='relu', input_shape=(3,)))\n",
        "model.add(Dense(16, activation='relu'))\n",
        "model.add(Dense(2, activation='softmax'))\n",
        "\n",
        "model.compile(optimizer='SGD', loss='squared_hinge', metrics=['accuracy'])\n",
        "model.fit(x_train, y_train, batch_size=10, epochs=20, verbose=1, validation_data=(x_test, y_test))"
      ],
      "metadata": {
        "colab": {
          "base_uri": "https://localhost:8080/"
        },
        "id": "rvKnc5u5xtg7",
        "outputId": "ca05ce81-99c1-478d-f64e-26fdbf4805d1"
      },
      "execution_count": 24,
      "outputs": [
        {
          "output_type": "stream",
          "name": "stdout",
          "text": [
            "Epoch 1/20\n",
            "1873/1873 [==============================] - 4s 2ms/step - loss: 0.5037 - accuracy: 0.9812 - val_loss: 0.5043 - val_accuracy: 0.9812\n",
            "Epoch 2/20\n",
            "1873/1873 [==============================] - 5s 3ms/step - loss: 0.5037 - accuracy: 0.9812 - val_loss: 0.5043 - val_accuracy: 0.9812\n",
            "Epoch 3/20\n",
            "1873/1873 [==============================] - 4s 2ms/step - loss: 0.5037 - accuracy: 0.9812 - val_loss: 0.5043 - val_accuracy: 0.9812\n",
            "Epoch 4/20\n",
            "1873/1873 [==============================] - 4s 2ms/step - loss: 0.5037 - accuracy: 0.9812 - val_loss: 0.5043 - val_accuracy: 0.9812\n",
            "Epoch 5/20\n",
            "1873/1873 [==============================] - 4s 2ms/step - loss: 0.5037 - accuracy: 0.9812 - val_loss: 0.5043 - val_accuracy: 0.9812\n",
            "Epoch 6/20\n",
            "1873/1873 [==============================] - 4s 2ms/step - loss: 0.5037 - accuracy: 0.9812 - val_loss: 0.5043 - val_accuracy: 0.9812\n",
            "Epoch 7/20\n",
            "1873/1873 [==============================] - 4s 2ms/step - loss: 0.5037 - accuracy: 0.9812 - val_loss: 0.5043 - val_accuracy: 0.9812\n",
            "Epoch 8/20\n",
            "1873/1873 [==============================] - 4s 2ms/step - loss: 0.5037 - accuracy: 0.9812 - val_loss: 0.5043 - val_accuracy: 0.9812\n",
            "Epoch 9/20\n",
            "1873/1873 [==============================] - 4s 2ms/step - loss: 0.5037 - accuracy: 0.9812 - val_loss: 0.5043 - val_accuracy: 0.9812\n",
            "Epoch 10/20\n",
            "1873/1873 [==============================] - 4s 2ms/step - loss: 0.5037 - accuracy: 0.9812 - val_loss: 0.5043 - val_accuracy: 0.9812\n",
            "Epoch 11/20\n",
            "1873/1873 [==============================] - 3s 2ms/step - loss: 0.5037 - accuracy: 0.9812 - val_loss: 0.5043 - val_accuracy: 0.9812\n",
            "Epoch 12/20\n",
            "1873/1873 [==============================] - 4s 2ms/step - loss: 0.5037 - accuracy: 0.9812 - val_loss: 0.5043 - val_accuracy: 0.9812\n",
            "Epoch 13/20\n",
            "1873/1873 [==============================] - 4s 2ms/step - loss: 0.5037 - accuracy: 0.9812 - val_loss: 0.5043 - val_accuracy: 0.9812\n",
            "Epoch 14/20\n",
            "1873/1873 [==============================] - 4s 2ms/step - loss: 0.5037 - accuracy: 0.9812 - val_loss: 0.5043 - val_accuracy: 0.9812\n",
            "Epoch 15/20\n",
            "1873/1873 [==============================] - 5s 3ms/step - loss: 0.5037 - accuracy: 0.9812 - val_loss: 0.5043 - val_accuracy: 0.9812\n",
            "Epoch 16/20\n",
            "1873/1873 [==============================] - 4s 2ms/step - loss: 0.5037 - accuracy: 0.9812 - val_loss: 0.5043 - val_accuracy: 0.9812\n",
            "Epoch 17/20\n",
            "1873/1873 [==============================] - 4s 2ms/step - loss: 0.5037 - accuracy: 0.9812 - val_loss: 0.5043 - val_accuracy: 0.9812\n",
            "Epoch 18/20\n",
            "1873/1873 [==============================] - 4s 2ms/step - loss: 0.5037 - accuracy: 0.9812 - val_loss: 0.5043 - val_accuracy: 0.9812\n",
            "Epoch 19/20\n",
            "1873/1873 [==============================] - 4s 2ms/step - loss: 0.5037 - accuracy: 0.9812 - val_loss: 0.5043 - val_accuracy: 0.9812\n",
            "Epoch 20/20\n",
            "1873/1873 [==============================] - 4s 2ms/step - loss: 0.5037 - accuracy: 0.9812 - val_loss: 0.5043 - val_accuracy: 0.9812\n",
            "147/147 [==============================] - 0s 2ms/step - loss: 0.5043 - accuracy: 0.9812\n",
            "Evaluation result on Test Data : Loss = 0.5042726993560791, accuracy = 0.981204628944397\n"
          ]
        }
      ]
    },
    {
      "cell_type": "markdown",
      "source": [
        "## **Model Evaluation**"
      ],
      "metadata": {
        "id": "YxC165kZ0kFK"
      }
    },
    {
      "cell_type": "code",
      "source": [
        "[test_loss, test_acc] = model.evaluate(x_test, y_test)\n",
        "print(\"Evaluation result on Test Data : Loss = {}, accuracy = {}\".format(test_loss, test_acc))"
      ],
      "metadata": {
        "colab": {
          "base_uri": "https://localhost:8080/"
        },
        "id": "Mkz2QcOf0jWq",
        "outputId": "753c85eb-c8ac-4c37-c60e-e44b04431f44"
      },
      "execution_count": 26,
      "outputs": [
        {
          "output_type": "stream",
          "name": "stdout",
          "text": [
            "147/147 [==============================] - 0s 1ms/step - loss: 0.5043 - accuracy: 0.9812\n",
            "Evaluation result on Test Data : Loss = 0.5042726993560791, accuracy = 0.981204628944397\n"
          ]
        }
      ]
    }
  ]
}